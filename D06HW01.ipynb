{
 "cells": [
  {
   "cell_type": "code",
   "execution_count": 2,
   "metadata": {},
   "outputs": [
    {
     "name": "stdout",
     "output_type": "stream",
     "text": [
      "[[0 1]\n",
      " [2 3]\n",
      " [4 5]]\n",
      "15\n",
      "15\n",
      "[6 9]\n"
     ]
    }
   ],
   "source": [
    "#1. [簡答題] 請問下列這三種方法有什麼不同？\n",
    "import numpy as np\n",
    "\n",
    "a= np.arange(6).reshape(3,2)\n",
    "print(a)\n",
    "print(a.sum())\n",
    "print(np.sum(a))\n",
    "print(sum(a))\n",
    "# a.sum() , np.sum(a) 回傳所有加總的值\n",
    "# sum(a) 回傳軸的加總後的陣列"
   ]
  },
  {
   "cell_type": "code",
   "execution_count": 3,
   "metadata": {},
   "outputs": [
    {
     "name": "stdout",
     "output_type": "stream",
     "text": [
      "[[0.38278837 0.53474863 0.639049   0.03670872 0.38993243]\n",
      " [0.58315307 0.41806747 0.9351822  0.00138395 0.52833883]\n",
      " [0.46939326 0.90102624 0.98474902 0.5770056  0.93094547]\n",
      " [0.22546956 0.38542748 0.92973146 0.98012222 0.65457308]\n",
      " [0.92341368 0.30798359 0.41670437 0.8897332  0.03802183]]\n",
      "[[0.38785639 0.54238726 0.648452   0.03592233 0.3951213 ]\n",
      " [0.59161052 0.42373228 0.94959469 0.         0.53586902]\n",
      " [0.47592632 0.91486094 1.         0.58535906 0.94528629]\n",
      " [0.22787632 0.39054014 0.94405175 0.99529494 0.6642387 ]\n",
      " [0.93762709 0.31178619 0.42234612 0.90337686 0.03725766]]\n"
     ]
    }
   ],
   "source": [
    "#2. 請對一個 5x5 的隨機矩陣作正規化的操作。\n",
    "a = np.random.random((5,5))\n",
    "print(a)\n",
    "b = (a-a.min())/(a.max()-a.min())\n",
    "print(b)\n"
   ]
  },
  {
   "cell_type": "code",
   "execution_count": 4,
   "metadata": {},
   "outputs": [
    {
     "name": "stdout",
     "output_type": "stream",
     "text": [
      "[73  9  3 24 23 43 39 92 -1 37]\n"
     ]
    }
   ],
   "source": [
    "#3.請建立一個長度等於 10 的正整數向量，並且將其中的最大值改成 -1。\n",
    "a = np.random.randint(1,100,10)\n",
    "a[a.argmax()] = -1\n",
    "print(a)\n"
   ]
  },
  {
   "cell_type": "code",
   "execution_count": null,
   "metadata": {},
   "outputs": [],
   "source": []
  }
 ],
 "metadata": {
  "kernelspec": {
   "display_name": "Python 3",
   "language": "python",
   "name": "python3"
  },
  "language_info": {
   "codemirror_mode": {
    "name": "ipython",
    "version": 3
   },
   "file_extension": ".py",
   "mimetype": "text/x-python",
   "name": "python",
   "nbconvert_exporter": "python",
   "pygments_lexer": "ipython3",
   "version": "3.8.5"
  }
 },
 "nbformat": 4,
 "nbformat_minor": 4
}
