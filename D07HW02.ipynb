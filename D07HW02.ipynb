{
 "cells": [
  {
   "cell_type": "code",
   "execution_count": 1,
   "metadata": {},
   "outputs": [
    {
     "name": "stdout",
     "output_type": "stream",
     "text": [
      "反矩陣 = \n",
      " [[ 0.19230769 -0.30769231]\n",
      " [-0.11538462  0.38461538]]\n",
      "反矩陣乘上原矩陣為單位矩陣:\n",
      " [[1. 0.]\n",
      " [0. 1.]]\n"
     ]
    }
   ],
   "source": [
    "#array1 = np.array([[10, 8], [3, 5]])\n",
    "#1.運用上列array計算反矩陣，乘上原矩陣，並觀察是否為單位矩陣?\n",
    "import numpy as np\n",
    "array1 = np.array([[10, 8], [3, 5]])\n",
    "array2 = np.linalg.inv(array1 )\n",
    "print( '反矩陣 = \\n', array2 )\n",
    "print('反矩陣乘上原矩陣為單位矩陣:\\n',array1.dot(array2))"
   ]
  },
  {
   "cell_type": "code",
   "execution_count": 2,
   "metadata": {},
   "outputs": [
    {
     "name": "stdout",
     "output_type": "stream",
     "text": [
      "eigenvalues:\n",
      "[13.  2.]\n",
      "eigenvectors:\n",
      "[[ 0.93632918 -0.70710678]\n",
      " [ 0.35112344  0.70710678]]\n"
     ]
    }
   ],
   "source": [
    "#2.運用上列array計算特徵值、特徵向量?\n",
    "print('eigenvalues:',np.linalg.eig(array1)[0],sep='\\n')\n",
    "print('eigenvectors:',np.linalg.eig(array1)[1],sep='\\n')"
   ]
  },
  {
   "cell_type": "code",
   "execution_count": 3,
   "metadata": {},
   "outputs": [
    {
     "name": "stdout",
     "output_type": "stream",
     "text": [
      "[[-0.91663818 -0.39971796]\n",
      " [-0.39971796  0.91663818]]\n",
      "[13.94721714  1.86417116]\n",
      "[[-0.74319741 -0.6690722 ]\n",
      " [-0.6690722   0.74319741]]\n"
     ]
    }
   ],
   "source": [
    "#3.運用上列array計算SVD?\n",
    "u, s, vh = np.linalg.svd(array1)\n",
    "print(u)\n",
    "print(s)\n",
    "print(vh)"
   ]
  },
  {
   "cell_type": "code",
   "execution_count": null,
   "metadata": {},
   "outputs": [],
   "source": []
  }
 ],
 "metadata": {
  "kernelspec": {
   "display_name": "Python 3",
   "language": "python",
   "name": "python3"
  },
  "language_info": {
   "codemirror_mode": {
    "name": "ipython",
    "version": 3
   },
   "file_extension": ".py",
   "mimetype": "text/x-python",
   "name": "python",
   "nbconvert_exporter": "python",
   "pygments_lexer": "ipython3",
   "version": "3.8.5"
  }
 },
 "nbformat": 4,
 "nbformat_minor": 4
}
