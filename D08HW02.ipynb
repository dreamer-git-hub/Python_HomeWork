{
 "cells": [
  {
   "cell_type": "code",
   "execution_count": 6,
   "metadata": {},
   "outputs": [
    {
     "data": {
      "text/plain": [
       "array([('小明', 'boy', 67.5, 8,  True), ('小華', 'boy', 75.3, 1,  True),\n",
       "       ('小菁', 'girl', 50.1, 5, False), ('小美', 'girl', 45.5, 4, False),\n",
       "       ('小張', 'boy', 80.8, 7,  True), ('John', 'boy', 90.4, 6,  True),\n",
       "       ('Mark', 'boy', 78.4, 2, False), ('Tom', 'boy', 70.7, 3, False)],\n",
       "      dtype=[('name', '<U8'), ('sex', '<U8'), ('weight', '<f8'), ('rank', '<i8'), ('myopia', '?')])"
      ]
     },
     "execution_count": 6,
     "metadata": {},
     "output_type": "execute_result"
    }
   ],
   "source": [
    "#name_list = ['小明','小華','小菁','小美','小張','John','Mark','Tom']\n",
    "#sex_list = ['boy','boy','girl','girl','boy','boy','boy','boy']\n",
    "#weight_list = [67.5,75.3,50.1,45.5,80.8,90.4,78.4,70.7]\n",
    "#rank_list = [8,1,5,4,7,6,2,3]\n",
    "#myopia_list = [True,True,False,False,True,True,False,False]\n",
    "\n",
    "#1.將上列list依照['name', 'sex', 'weight', 'rank', 'myopia']順序擺入array，並且資料型態順序擺入[Unicode,Unicode,float,int,boolean]\n",
    "import numpy as np \n",
    "name_list = ['小明','小華','小菁','小美','小張','John','Mark','Tom']\n",
    "sex_list = ['boy','boy','girl','girl','boy','boy','boy','boy']\n",
    "weight_list = [67.5,75.3,50.1,45.5,80.8,90.4,78.4,70.7]\n",
    "rank_list = [8,1,5,4,7,6,2,3]\n",
    "myopia_list = [True,True,False,False,True,True,False,False]\n",
    "dt=np.dtype({'names':('name','sex','weight','rank','myopia'),'formats':('U8','U8','f8','i8','b1')})\n",
    "array1=np.zeros(8,dtype=dt)\n",
    "array1['name'],array1['sex'],array1['weight'],array1['rank'],array1['myopia']=name_list,sex_list,weight_list,rank_list,myopia_list\n",
    "array1"
   ]
  },
  {
   "cell_type": "code",
   "execution_count": 7,
   "metadata": {},
   "outputs": [
    {
     "data": {
      "text/plain": [
       "69.8375"
      ]
     },
     "execution_count": 7,
     "metadata": {},
     "output_type": "execute_result"
    }
   ],
   "source": [
    "#2. 呈上題，將array中體重(weight)數據集取出算出全部平均體重\n",
    "np.average(array1['weight'])"
   ]
  },
  {
   "cell_type": "code",
   "execution_count": 11,
   "metadata": {},
   "outputs": [
    {
     "name": "stdout",
     "output_type": "stream",
     "text": [
      "77.18333333333332\n",
      "47.8\n"
     ]
    }
   ],
   "source": [
    "#3. 呈上題，進一步算出男生、女生(sex欄位是boy,sex欄位是girl)平均體重\n",
    "#男生(sex欄位是girl)平均體重\n",
    "#print(np.average(array1['weight']))\n",
    "boy=array1[array1['sex']=='boy']\n",
    "print(np.average(boy['weight']))\n",
    "#女生(sex欄位是girl)平均體重\n",
    "girl=array1[array1['sex']=='girl']\n",
    "print(np.average(girl['weight']))"
   ]
  },
  {
   "cell_type": "code",
   "execution_count": null,
   "metadata": {},
   "outputs": [],
   "source": []
  }
 ],
 "metadata": {
  "kernelspec": {
   "display_name": "Python 3",
   "language": "python",
   "name": "python3"
  },
  "language_info": {
   "codemirror_mode": {
    "name": "ipython",
    "version": 3
   },
   "file_extension": ".py",
   "mimetype": "text/x-python",
   "name": "python",
   "nbconvert_exporter": "python",
   "pygments_lexer": "ipython3",
   "version": "3.8.5"
  }
 },
 "nbformat": 4,
 "nbformat_minor": 4
}
