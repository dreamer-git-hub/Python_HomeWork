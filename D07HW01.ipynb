{
 "cells": [
  {
   "cell_type": "code",
   "execution_count": 1,
   "metadata": {},
   "outputs": [
    {
     "name": "stdout",
     "output_type": "stream",
     "text": [
      "52.8 ns ± 18.6 ns per loop (mean ± std. dev. of 7 runs, 10 loops each)\n",
      "7\n",
      "8\n"
     ]
    }
   ],
   "source": [
    "import numpy as np\n",
    "import timeit\n",
    "#1.請比較對一個 100 x 100 * 100 的陣列，使用不同方法對每一個元素 +1 的時間比較。\n",
    "Z = np.random.randint(0, 10, 1000000).reshape(100, 100, 100)\n",
    "#方法1:直接全部+1\n",
    "%timeit -n 10 a = 2\n",
    "\n",
    "Z_method1 = Z + 1\n",
    "\n",
    "print(Z[0,0,0])\n",
    "print(Z_method1[0,0,0])"
   ]
  },
  {
   "cell_type": "code",
   "execution_count": 2,
   "metadata": {},
   "outputs": [
    {
     "name": "stdout",
     "output_type": "stream",
     "text": [
      "58.7 ns ± 20.3 ns per loop (mean ± std. dev. of 7 runs, 10 loops each)\n",
      "7\n",
      "8\n"
     ]
    }
   ],
   "source": [
    "#方法2:用falt把它攤平\n",
    "%timeit -n 10 a = 2\n",
    "\n",
    "Z_falt = []\n",
    "\n",
    "for i in Z.flat:\n",
    "    Z_falt.append(i+1)\n",
    "Z_falt_array=np.array(Z_falt).reshape(100,100,100)\n",
    "print(Z[0,0,0])\n",
    "print(Z_falt_array[0,0,0])"
   ]
  },
  {
   "cell_type": "code",
   "execution_count": 3,
   "metadata": {},
   "outputs": [
    {
     "name": "stdout",
     "output_type": "stream",
     "text": [
      "52.8 ns ± 28.7 ns per loop (mean ± std. dev. of 7 runs, 10 loops each)\n",
      "7\n",
      "8\n"
     ]
    }
   ],
   "source": [
    "#方法3:nditer\n",
    "%timeit -n 10 a = 2\n",
    "\n",
    "Z_falt2 = []\n",
    "\n",
    "for i in np.nditer(Z, order = 'C'):\n",
    "    Z_falt2.append(i+1)\n",
    "\n",
    "Z_falt2_array = np.array(Z_falt2, dtype = int).reshape(100,100,100)\n",
    "print(Z[0,0,0])\n",
    "print(Z_falt2_array[0,0,0])"
   ]
  },
  {
   "cell_type": "code",
   "execution_count": 4,
   "metadata": {},
   "outputs": [
    {
     "name": "stdout",
     "output_type": "stream",
     "text": [
      "[2 8 6 0 3 4 4 8 1 1 0 6 4 9 5 1 8 4 5 6 0 5 7 8 3 7 9 6 6 1 9 1 4 7 0 1 2\n",
      " 7 8 7 1 3 6 2 5 1 1 3 0 0]\n",
      "頻率最高的數值: 9\n",
      "頻率最高的數值的次數: 3\n",
      "頻率最高的數值的位置: [13 26 30]\n"
     ]
    }
   ],
   "source": [
    "#2.如何從一個陣列中，找出出現頻率最高的數值與位置？\n",
    "Z = np.random.randint(0,10,50)\n",
    "print(Z)\n",
    "\n",
    "uni,con=np.unique(Z,return_counts=True)\n",
    "print('頻率最高的數值:',np.max(uni))\n",
    "print('頻率最高的數值的次數:',con[np.argmax(uni)])\n",
    "print('頻率最高的數值的位置:',np.where(Z==np.max(uni))[0])"
   ]
  },
  {
   "cell_type": "code",
   "execution_count": 5,
   "metadata": {},
   "outputs": [
    {
     "name": "stdout",
     "output_type": "stream",
     "text": [
      "[9, 4, 6, 8, 5, 6]\n",
      "[9, 4, 6, 8, 5, 6]\n",
      "[[5, 6, 1, 4], [4, 3, 0, 5], [5, 1, 2, 9]]\n",
      "[array([5, 6, 1, 4]), array([4, 3, 0, 5]), array([5, 1, 2, 9])]\n",
      "[[[3, 5], [2, 7], [4, 3]], [[0, 2], [2, 5], [7, 6]]]\n",
      "[array([[3, 5],\n",
      "       [2, 7],\n",
      "       [4, 3]]), array([[0, 2],\n",
      "       [2, 5],\n",
      "       [7, 6]])]\n"
     ]
    },
    {
     "data": {
      "text/plain": [
       "[[[3, 5], [2, 7], [4, 3]], [[0, 2], [2, 5], [7, 6]]]"
      ]
     },
     "execution_count": 5,
     "metadata": {},
     "output_type": "execute_result"
    }
   ],
   "source": [
    "#3.如何利用 list(...) 實現 a.tolist() 的效果？試著用程式實作。\n",
    "a = np.random.randint(10, size=6) \n",
    "print(a.tolist())\n",
    "print(list(a))\n",
    "\n",
    "\n",
    "b = np.random.randint(10, size=(3,4)) \n",
    "print(b.tolist())\n",
    "print(list(b))\n",
    "\n",
    "\n",
    "c = np.random.randint(10, size=(2,3,2)) \n",
    "print(c.tolist())\n",
    "print(list(c))\n",
    "tolist_ = lambda arr: list(map(tolist_, arr)) if isinstance(arr, np.ndarray) else arr \n",
    "tolist_(c)\n",
    "def tolist_2(arr):\n",
    "    if (isinstance(arr, np.ndarray)):\n",
    "        return(list(map(tolist_2, arr)))        \n",
    "    else:\n",
    "        return(arr)\n",
    "\n",
    "tolist_2(c)"
   ]
  },
  {
   "cell_type": "code",
   "execution_count": null,
   "metadata": {},
   "outputs": [],
   "source": []
  }
 ],
 "metadata": {
  "kernelspec": {
   "display_name": "Python 3",
   "language": "python",
   "name": "python3"
  },
  "language_info": {
   "codemirror_mode": {
    "name": "ipython",
    "version": 3
   },
   "file_extension": ".py",
   "mimetype": "text/x-python",
   "name": "python",
   "nbconvert_exporter": "python",
   "pygments_lexer": "ipython3",
   "version": "3.8.5"
  }
 },
 "nbformat": 4,
 "nbformat_minor": 4
}
