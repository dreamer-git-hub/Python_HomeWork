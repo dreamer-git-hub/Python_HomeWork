{
 "cells": [
  {
   "cell_type": "code",
   "execution_count": 1,
   "metadata": {},
   "outputs": [
    {
     "name": "stdout",
     "output_type": "stream",
     "text": [
      "[ 1  2 -3 -4 -5 -6  7  8  9 10 11]\n"
     ]
    }
   ],
   "source": [
    "# 1. 產生一個 1-11 的一維陣列，並且把 3-6 由正數變成負數。\n",
    "import numpy as np\n",
    "a=np.arange(1,12) \n",
    "a[(a <= 6) & (a >= 3)] *= -1\n",
    "print(a)"
   ]
  },
  {
   "cell_type": "code",
   "execution_count": 2,
   "metadata": {},
   "outputs": [
    {
     "name": "stdout",
     "output_type": "stream",
     "text": [
      "[[0.05213366 0.17051122 0.47111254 0.1391225  0.76794067 0.29436326]\n",
      " [0.6005075  0.8008737  0.60304983 0.4542826  0.98638229 0.39574175]\n",
      " [0.82332472 0.81550206 0.36232582 0.98115873 0.03758767 0.43816419]]\n",
      "8\n"
     ]
    }
   ],
   "source": [
    "# 2.試著從一個隨機陣列中，找出比 0.5 大的數有幾個？\n",
    "a = np.random.rand(3, 6)\n",
    "print(a)\n",
    "print(a[a > 0.5].size) \n"
   ]
  },
  {
   "cell_type": "code",
   "execution_count": null,
   "metadata": {},
   "outputs": [],
   "source": []
  }
 ],
 "metadata": {
  "kernelspec": {
   "display_name": "Python 3",
   "language": "python",
   "name": "python3"
  },
  "language_info": {
   "codemirror_mode": {
    "name": "ipython",
    "version": 3
   },
   "file_extension": ".py",
   "mimetype": "text/x-python",
   "name": "python",
   "nbconvert_exporter": "python",
   "pygments_lexer": "ipython3",
   "version": "3.8.5"
  }
 },
 "nbformat": 4,
 "nbformat_minor": 4
}
