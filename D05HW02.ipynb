{
 "cells": [
  {
   "cell_type": "code",
   "execution_count": 7,
   "metadata": {},
   "outputs": [
    {
     "name": "stdout",
     "output_type": "stream",
     "text": [
      "67.16666666666667 66.6 75.33333333333333\n",
      "89 85.0 90\n",
      "48 60.0 65\n",
      "13.433995020924426 9.707728879609279 8.825468196582484\n"
     ]
    }
   ],
   "source": [
    "#1.請計算各科成績平均、最大值、最小值、標準差，其中數學缺一筆資料可忽略?\n",
    "import numpy as np\n",
    "\n",
    "english_score = np.array([55,89,76,65,48,70])\n",
    "math_score = np.array([60,85,60,68,np.nan,60])\n",
    "chinese_score = np.array([65,90,82,72,66,77])\n",
    "print(np.nanmean(english_score),np.nanmean(math_score),np.nanmean(chinese_score))\n",
    "print(np.nanmax(english_score),np.nanmax(math_score),np.nanmax(chinese_score))\n",
    "print(np.nanmin(english_score),np.nanmin(math_score),np.nanmin(chinese_score))\n",
    "print(np.nanstd(english_score),np.nanstd(math_score),np.nanstd(chinese_score))\n"
   ]
  },
  {
   "cell_type": "code",
   "execution_count": 8,
   "metadata": {},
   "outputs": [
    {
     "name": "stdout",
     "output_type": "stream",
     "text": [
      "mean: 64.66666666666667\n",
      "max: 85.0\n",
      "min:55.0 \n",
      "standev:9.860132971832694\n"
     ]
    }
   ],
   "source": [
    "#2. 第五位同學補考數學後成績為55，請計算補考後數學成績平均、最大值、最小值、標準差?\n",
    "math_score[4] = 55\n",
    "math_mean = np.nanmean(math_score)\n",
    "math_max = np.nanmax(math_score)\n",
    "math_min = np.nanmin(math_score)\n",
    "math_std = np.nanstd(math_score)\n",
    "print('mean: {}\\nmax: {}\\nmin:{} \\nstandev:{}'.format(math_mean,math_max, math_min, math_std))"
   ]
  },
  {
   "cell_type": "code",
   "execution_count": 9,
   "metadata": {},
   "outputs": [
    {
     "name": "stdout",
     "output_type": "stream",
     "text": [
      "[[1.         0.74056803]\n",
      " [0.74056803 1.        ]]\n",
      "[[1.        0.7855563]\n",
      " [0.7855563 1.       ]]\n"
     ]
    }
   ],
   "source": [
    "#3. 用補考後資料找出與國文成績相關係數最高的學科?\n",
    "print(np.corrcoef(chinese_score,math_score))\n",
    "print(np.corrcoef(english_score,math_score))"
   ]
  },
  {
   "cell_type": "code",
   "execution_count": null,
   "metadata": {},
   "outputs": [],
   "source": []
  }
 ],
 "metadata": {
  "kernelspec": {
   "display_name": "Python 3",
   "language": "python",
   "name": "python3"
  },
  "language_info": {
   "codemirror_mode": {
    "name": "ipython",
    "version": 3
   },
   "file_extension": ".py",
   "mimetype": "text/x-python",
   "name": "python",
   "nbconvert_exporter": "python",
   "pygments_lexer": "ipython3",
   "version": "3.8.5"
  }
 },
 "nbformat": 4,
 "nbformat_minor": 4
}
